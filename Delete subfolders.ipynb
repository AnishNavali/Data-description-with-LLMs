{
 "cells": [
  {
   "cell_type": "code",
   "execution_count": null,
   "id": "51393a21",
   "metadata": {},
   "outputs": [],
   "source": [
    "import os\n",
    "import shutil\n",
    "import pandas as pd\n",
    "import numpy as np\n",
    "\n",
    "# List of cities to iterate over\n",
    "cities = [\n",
    "    \"Bangalore\", \"Noida\", \"Chennai\", \"Pune\", \"Belgaum\",\n",
    "    \"New Delhi\", \"Gurgaon\", \"Mysore\", \"Mumbai\", \"Kolkata\",\n",
    "    \"Hyderabad\", \"Bhubaneswar\", \"Thiruvananthapuram\",\n",
    "    \"Chicago\", \"New York\", \"Austin\", \"San Francisco\",\n",
    "    \"Berlin\", \"London\", \"Singapore\"\n",
    "]\n",
    "\n",
    "# Folder to download the CSV files\n",
    "download_folder = r\"C:\\Users\\gagan\\Downloads\\Location\"\n",
    "\n",
    "# Iterate over each city\n",
    "for city in cities:\n",
    "    # Source folder containing CSV files\n",
    "    source_folder = download_folder\n",
    "\n",
    "    # Destination base folder\n",
    "    destination_base_folder = rf\"C:\\Users\\gagan\\Downloads\\Memsys company\\Level 1 employees\\{city}\"\n",
    "\n",
    "    # Iterate over each file in the source folder\n",
    "    for filename in os.listdir(source_folder):\n",
    "        # Check if the file is a CSV file\n",
    "        if filename.endswith(\".csv\"):\n",
    "            # Move the file to the destination folder\n",
    "            source_path = os.path.join(source_folder, filename)\n",
    "            destination_path = os.path.join(destination_base_folder, filename)\n",
    "            shutil.move(source_path, destination_path)\n",
    "\n",
    "            print(f\"Moved {filename} to {destination_base_folder}\")\n",
    "\n",
    "    # Remove subfolders after moving CSV files\n",
    "    for subfolder in os.listdir(destination_base_folder):\n",
    "        subfolder_path = os.path.join(destination_base_folder, subfolder)\n",
    "        if os.path.isdir(subfolder_path):\n",
    "            shutil.rmtree(subfolder_path)\n",
    "            print(f\"Removed subfolder: {subfolder_path}\")\n"
   ]
  }
 ],
 "metadata": {
  "kernelspec": {
   "display_name": "Python 3 (ipykernel)",
   "language": "python",
   "name": "python3"
  },
  "language_info": {
   "codemirror_mode": {
    "name": "ipython",
    "version": 3
   },
   "file_extension": ".py",
   "mimetype": "text/x-python",
   "name": "python",
   "nbconvert_exporter": "python",
   "pygments_lexer": "ipython3",
   "version": "3.9.13"
  }
 },
 "nbformat": 4,
 "nbformat_minor": 5
}
