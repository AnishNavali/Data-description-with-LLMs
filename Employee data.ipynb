import os
import shutil
import pandas as pd
import numpy as np

# Load the CSV file into a DataFrame
file_path = r"C:\Users\gagan\Downloads\Employee data all sheets\UpdatedAllocationGen.csv"
df = pd.read_csv(file_path)

# List of keywords to iterate over
all_keywords = [
    'CXO', 'Retail', 'Banking', 'Healthcare', 'Insurance', 'Manufacturing', 'Infotainment', 'Media',
    'Communications', 'Networking', 'Embedded', 'Education', 'Government', 'Public Sector', 'MSME', 'eCommerce',
    'Digital Transformations', 'Life Sciences', 'Energy', 'Emerging Technologies', 'FMCG', 'Transportation',
    'Finance', 'HRM', 'Purchase', 'Sales & Marketing', 'Admin'
]

# List of cities to iterate over
cities = [
    "Bangalore", "Noida", "Chennai", "Pune", "Belgaum",
    "New Delhi", "Gurgaon", "Mysore", "Mumbai", "Kolkata",
    "Hyderabad", "Bhubaneswar", "Thiruvananthapuram",
    "Chicago", "New York", "Austin", "San Francisco",
    "Berlin", "London", "Singapore"
]

# Folder to download the CSV files
download_folder = r"C:\Users\gagan\Downloads\Location"

# Iterate over each city
for city in cities:
    # Iterate over each keyword
    for keyword in all_keywords:
        # Update keywords and filtered_file_path
        keywords = ['level1', city, keyword]
        filtered_file_path = rf"{download_folder}\{keyword}.csv"

        # Create a boolean mask for rows that contain all keywords
        mask = np.logical_and.reduce([df.apply(lambda row: str(keyword).lower() in str(row).lower(), axis=1) for keyword in keywords])

        # Keep only the rows that meet the criteria, and keep the first row
        filtered_df = df[mask]

        # Save the filtered DataFrame to a new CSV file in the download folder
        filtered_df.to_csv(filtered_file_path, index=False)

        print(f"Filtered data for {city} - {keyword} saved to {filtered_file_path}")

    # Source folder containing Excel files
    source_folder = download_folder

    # Destination base folder
    destination_base_folder = rf"C:\Users\gagan\Downloads\Memsys\Level 1 employees\{city}"

    # Iterate over each file in the source folder
    for filename in os.listdir(source_folder):
        # Check if the file is an Excel file
        if filename.endswith(".csv"):
            # Extract the keyword from the filename (assuming the keyword is before the ".csv" extension)
            keyword = filename[:-4]

            # Find folders in the destination base folder that end with the same keyword
            matching_folders = [folder for folder in os.listdir(destination_base_folder) if folder.endswith(keyword)]

            if matching_folders:
                # Choose the first matching folder, you can modify this logic based on your requirements
                destination_folder = os.path.join(destination_base_folder, matching_folders[0])

                # Move the file to the destination folder
                source_path = os.path.join(source_folder, filename)
                destination_path = os.path.join(destination_folder, filename)
                shutil.move(source_path, destination_path)

                print(f"Moved {filename} to {destination_folder}")
            else:
                print(f"No matching folder found for {filename}")
